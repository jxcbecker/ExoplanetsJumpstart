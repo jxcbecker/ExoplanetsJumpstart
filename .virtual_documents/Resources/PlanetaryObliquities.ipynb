import numpy as np
import pandas as pd
import matplotlib.pyplot as plt



obl_data_raw = pd.read_csv("obliquity.csv", skiprows = [1,2])
obl_data = obl_data_raw.loc[obl_data_raw['Pflag'] == 'y']


ipac_data_raw = pd.read_csv("PS_2025.03.05_11.27.17.csv", skiprows = 100)
ipac_data = ipac_data_raw.loc[(ipac_data_raw['discoverymethod'] == 'Transit')]


def normalize_name(name: str) -> str:
    return (name.strip()       
            .lower()             
            .replace('_', '') 
            .replace('-', '') 
            .replace(' ', ''))

obl_data['merge_key'] = obl_data['System'].apply(normalize_name)
ipac_data['merge_key'] = ipac_data['pl_name'].apply(normalize_name)
obl_data['merge_key2'] = obl_data['System'].apply(normalize_name)
ipac_data['merge_key2'] = ipac_data['hostname'].apply(normalize_name)

merged_df1 = pd.merge(obl_data, ipac_data, on='merge_key', how='inner')
merged_df2 = pd.merge(obl_data, ipac_data, on='merge_key2', how='inner')
final_merged_df = pd.concat([merged_df1, merged_df2], axis=0, ignore_index=True)
#check for failures
unmatched_rows = obl_data[~obl_data['System'].isin(final_merged_df['System'])]



final_merged_df.columns


#exclusions
idx = (final_merged_df['lambda'] != -999) 

#plot it
plt.errorbar(final_merged_df.loc[idx]['Teff'], final_merged_df.loc[idx]['lambda'], 
             yerr = [final_merged_df.loc[idx]['errdn'], final_merged_df.loc[idx]['errup']], linestyle='None', marker = 'o')
plt.ylabel("Obliquity (deg)", fontsize = 15)
plt.xlabel("T$_{eff}$ (K)", fontsize = 15)
plt.yticks(fontsize = 12)
plt.xticks(fontsize = 12)
plt.axvline(6250, c='r', linestyle="--")  






#exclusions
idx = (final_merged_df['lambda'] != -999) 

#plot it
plt.errorbar(final_merged_df.loc[idx]['Teff'], final_merged_df.loc[idx]['lambda'], 
             yerr = [final_merged_df.loc[idx]['errdn'], final_merged_df.loc[idx]['errup']], linestyle='None', marker = 'o')
plt.ylabel("Obliquity (deg)", fontsize = 15)
plt.xlabel("T$_{eff}$ (K)", fontsize = 15)
plt.yticks(fontsize = 12)
plt.xticks(fontsize = 12)









